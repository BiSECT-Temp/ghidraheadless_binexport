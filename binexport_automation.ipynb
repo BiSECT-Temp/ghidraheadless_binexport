{
 "cells": [
  {
   "cell_type": "code",
   "execution_count": 3,
   "id": "2f9d07d5",
   "metadata": {},
   "outputs": [],
   "source": [
    "import sqlite3\n",
    "import pandas as pd\n",
    "import glob\n",
    "import subprocess, os"
   ]
  },
  {
   "cell_type": "code",
   "execution_count": 4,
   "id": "c79a331a",
   "metadata": {},
   "outputs": [
    {
     "data": {
      "text/plain": [
       "'\\n1. read file of cb_multios_execs\\n2. create dictionary k (original), v (patched)\\n3. cmd: bindiff orig.BinExport patched.BinExport\\n4. analysis (to get diff function names)\\n'"
      ]
     },
     "execution_count": 4,
     "metadata": {},
     "output_type": "execute_result"
    }
   ],
   "source": [
    "'''\n",
    "1. read file of cb_multios_execs\n",
    "2. create dictionary k (original), v (patched)\n",
    "3. cmd: bindiff orig.BinExport patched.BinExport\n",
    "4. analysis (to get diff function names)\n",
    "'''"
   ]
  },
  {
   "cell_type": "code",
   "execution_count": 5,
   "id": "cbb2f49c",
   "metadata": {},
   "outputs": [],
   "source": [
    "files = sorted([file for file in glob.glob('/home/user/Desktop/cbmultios_BinExports/*.BinExport')])"
   ]
  },
  {
   "cell_type": "code",
   "execution_count": 6,
   "id": "92bfeecf",
   "metadata": {},
   "outputs": [],
   "source": [
    "def make_pairs(files):\n",
    "    originals = [file for file in files if \"_patched\" not in file]\n",
    "    patched = [(file.replace('.BinExport', '_patched.BinExport')) for file in originals]\n",
    "    pairs = dict(zip(originals, patched))\n",
    "    #pairs = dict(zip(files[::2], files[1::2]))\n",
    "    return pairs"
   ]
  },
  {
   "cell_type": "code",
   "execution_count": 7,
   "id": "d34d2b16",
   "metadata": {},
   "outputs": [],
   "source": [
    "def make_bindiff(original, patched):\n",
    "    output_dir = '/home/user/Desktop/cbmultios_BinExports/bindiffs/'\n",
    "    full_path = output_dir + original.split('/')[-1].replace('.BinExport','') + '_vs_' + patched.split('/')[-1].replace('.BinExport','') + '.BinDiff'\n",
    "    cmd = ['/usr/bin/bindiff', original, patched, '--output_dir='+ output_dir]\n",
    "    subprocess.Popen(cmd, stdout=subprocess.PIPE, stderr=subprocess.PIPE)\n",
    "    return full_path"
   ]
  },
  {
   "cell_type": "code",
   "execution_count": 8,
   "id": "e3b4e21c",
   "metadata": {},
   "outputs": [],
   "source": [
    "def bindiff_to_csv(bindiff_diff):\n",
    "    print('bindiff to csv: ', bindiff_diff)\n",
    "    #bindiff_diff = bindiff_diff.replace('.BinExport','')\n",
    "    db = sqlite3.connect(bindiff_diff)\n",
    "    cursor = db.cursor()\n",
    "    cursor.execute(\"SELECT name FROM sqlite_master WHERE type='table';\")\n",
    "    tables = cursor.fetchall()\n",
    "    try:\n",
    "        fun_table = tables[4]\n",
    "        #table = pd.read_sql_query(\"SELECT * from %s\" % fun_table, db)\n",
    "        table = pd.read_sql_query(\"SELECT * from %s\" % fun_table, db)\n",
    "\n",
    "        output_dir = '/home/user/Desktop/cbmultios_BinExports/bindiffs/funtables/'\n",
    "        name = output_dir + bindiff_diff.split('/')[-1] + '_funtable.csv'\n",
    "        table.to_csv(name, index_label='index')\n",
    "        cursor.close()\n",
    "        db.close()\n",
    "        return name\n",
    "\n",
    "    except:\n",
    "        return 'error'"
   ]
  },
  {
   "cell_type": "code",
   "execution_count": 37,
   "id": "c3f58d10",
   "metadata": {},
   "outputs": [],
   "source": [
    "def get_fcn(name_sample_addr):\n",
    "    try:\n",
    "        index = fun_df.index[fun_df['sample_name_addr'] == name_sample_addr].tolist()[0]\n",
    "        fun_name = fun_df.iloc[index]['fun_name']\n",
    "    except:\n",
    "        fun_name='not_found'\n",
    "    return fun_name\n"
   ]
  },
  {
   "cell_type": "code",
   "execution_count": 38,
   "id": "46b73b41",
   "metadata": {},
   "outputs": [],
   "source": [
    "def coorelate_fun_names(table_path):\n",
    "    bindiff_df = pd.read_csv(table_path, index_col=[0])\n",
    "    name = table_path.split('/')[-1].replace('_funtable.csv','').replace('.BinDiff','').split('_vs_')\n",
    "    \n",
    "    #index,id,address1,address2,similarity,confidence,\n",
    "    #flags,algorithm,evaluate,commentsported,basicblocks,edges,instructions\n",
    "    bindiff_df['original_sample'] = name[0] #get original sample name\n",
    "    bindiff_df['patched_sample'] = name[1] #get patched sample name\n",
    "\n",
    "    bindiff_df['original_sample_addr'] = bindiff_df['original_sample'] + '_' + bindiff_df['address1'].apply(str)\n",
    "    bindiff_df['patched_sample_addr'] = bindiff_df['patched_sample'] + '_' + bindiff_df['address2'].apply(str)\n",
    "\n",
    "    bindiff_df['orig_fun_name'] = bindiff_df['original_sample_addr'].apply(lambda x: get_fcn(x))\n",
    "    bindiff_df['patched_fun_name'] = bindiff_df['patched_sample_addr'].apply(lambda x: get_fcn(x))\n",
    "\n",
    "    csv_name = base_dir + table_path.split('/')[-1].replace('.BinDiff','') + '_finaldf.csv'\n",
    "    bindiff_df.to_csv(csv_name)\n",
    "    return bindiff_df\n"
   ]
  },
  {
   "cell_type": "code",
   "execution_count": 33,
   "id": "a67a7b56",
   "metadata": {},
   "outputs": [],
   "source": [
    "base_dir = '/home/user/Desktop/cbmultios_BinExports/ghidra_function_data/'\n",
    "fun_df = pd.read_csv(base_dir+'sample_functions_addresses.csv')\n",
    "fun_df.columns = ['path', 'fun_name', 'addr']\n",
    "fun_df['name'] = fun_df['path'].apply(lambda x: x.split('/')[-1])\n",
    "fun_df['sample_name_addr'] = fun_df['name'] + '_' + fun_df['addr'].apply(str)"
   ]
  },
  {
   "cell_type": "code",
   "execution_count": 34,
   "id": "f195d71b",
   "metadata": {},
   "outputs": [
    {
     "data": {
      "text/html": [
       "<div>\n",
       "<style scoped>\n",
       "    .dataframe tbody tr th:only-of-type {\n",
       "        vertical-align: middle;\n",
       "    }\n",
       "\n",
       "    .dataframe tbody tr th {\n",
       "        vertical-align: top;\n",
       "    }\n",
       "\n",
       "    .dataframe thead th {\n",
       "        text-align: right;\n",
       "    }\n",
       "</style>\n",
       "<table border=\"1\" class=\"dataframe\">\n",
       "  <thead>\n",
       "    <tr style=\"text-align: right;\">\n",
       "      <th></th>\n",
       "      <th>path</th>\n",
       "      <th>fun_name</th>\n",
       "      <th>addr</th>\n",
       "      <th>name</th>\n",
       "      <th>sample_name_addr</th>\n",
       "    </tr>\n",
       "  </thead>\n",
       "  <tbody>\n",
       "    <tr>\n",
       "      <th>0</th>\n",
       "      <td>/home/user/Desktop/cb_multios_binaries_origina...</td>\n",
       "      <td>FUN_0804a030</td>\n",
       "      <td>134520880</td>\n",
       "      <td>3D_Image_Toolkit</td>\n",
       "      <td>3D_Image_Toolkit_134520880</td>\n",
       "    </tr>\n",
       "    <tr>\n",
       "      <th>1</th>\n",
       "      <td>/home/user/Desktop/cb_multios_binaries_origina...</td>\n",
       "      <td>cgc_pow</td>\n",
       "      <td>134520896</td>\n",
       "      <td>3D_Image_Toolkit</td>\n",
       "      <td>3D_Image_Toolkit_134520896</td>\n",
       "    </tr>\n",
       "    <tr>\n",
       "      <th>2</th>\n",
       "      <td>/home/user/Desktop/cb_multios_binaries_origina...</td>\n",
       "      <td>cgc__terminate</td>\n",
       "      <td>134520912</td>\n",
       "      <td>3D_Image_Toolkit</td>\n",
       "      <td>3D_Image_Toolkit_134520912</td>\n",
       "    </tr>\n",
       "    <tr>\n",
       "      <th>3</th>\n",
       "      <td>/home/user/Desktop/cb_multios_binaries_origina...</td>\n",
       "      <td>cgc_transmit</td>\n",
       "      <td>134520928</td>\n",
       "      <td>3D_Image_Toolkit</td>\n",
       "      <td>3D_Image_Toolkit_134520928</td>\n",
       "    </tr>\n",
       "    <tr>\n",
       "      <th>4</th>\n",
       "      <td>/home/user/Desktop/cb_multios_binaries_origina...</td>\n",
       "      <td>cgc_cos</td>\n",
       "      <td>134520944</td>\n",
       "      <td>3D_Image_Toolkit</td>\n",
       "      <td>3D_Image_Toolkit_134520944</td>\n",
       "    </tr>\n",
       "    <tr>\n",
       "      <th>...</th>\n",
       "      <td>...</td>\n",
       "      <td>...</td>\n",
       "      <td>...</td>\n",
       "      <td>...</td>\n",
       "      <td>...</td>\n",
       "    </tr>\n",
       "    <tr>\n",
       "      <th>2382</th>\n",
       "      <td>/home/user/Desktop/cb_multios_binaries_origina...</td>\n",
       "      <td>cgc_log</td>\n",
       "      <td>134541344</td>\n",
       "      <td>Audio_Visualizer</td>\n",
       "      <td>Audio_Visualizer_134541344</td>\n",
       "    </tr>\n",
       "    <tr>\n",
       "      <th>2383</th>\n",
       "      <td>/home/user/Desktop/cb_multios_binaries_origina...</td>\n",
       "      <td>cgc_deallocate</td>\n",
       "      <td>134541348</td>\n",
       "      <td>Audio_Visualizer</td>\n",
       "      <td>Audio_Visualizer_134541348</td>\n",
       "    </tr>\n",
       "    <tr>\n",
       "      <th>2384</th>\n",
       "      <td>/home/user/Desktop/cb_multios_binaries_origina...</td>\n",
       "      <td>cgc_sin</td>\n",
       "      <td>134541352</td>\n",
       "      <td>Audio_Visualizer</td>\n",
       "      <td>Audio_Visualizer_134541352</td>\n",
       "    </tr>\n",
       "    <tr>\n",
       "      <th>2385</th>\n",
       "      <td>/home/user/Desktop/cb_multios_binaries_origina...</td>\n",
       "      <td>cgc_sqrt</td>\n",
       "      <td>134541356</td>\n",
       "      <td>Audio_Visualizer</td>\n",
       "      <td>Audio_Visualizer_134541356</td>\n",
       "    </tr>\n",
       "    <tr>\n",
       "      <th>2386</th>\n",
       "      <td>/home/user/Desktop/cb_multios_binaries_origina...</td>\n",
       "      <td>cgc_receive</td>\n",
       "      <td>134541360</td>\n",
       "      <td>Audio_Visualizer</td>\n",
       "      <td>Audio_Visualizer_134541360</td>\n",
       "    </tr>\n",
       "  </tbody>\n",
       "</table>\n",
       "<p>2387 rows × 5 columns</p>\n",
       "</div>"
      ],
      "text/plain": [
       "                                                   path        fun_name  \\\n",
       "0     /home/user/Desktop/cb_multios_binaries_origina...    FUN_0804a030   \n",
       "1     /home/user/Desktop/cb_multios_binaries_origina...         cgc_pow   \n",
       "2     /home/user/Desktop/cb_multios_binaries_origina...  cgc__terminate   \n",
       "3     /home/user/Desktop/cb_multios_binaries_origina...    cgc_transmit   \n",
       "4     /home/user/Desktop/cb_multios_binaries_origina...         cgc_cos   \n",
       "...                                                 ...             ...   \n",
       "2382  /home/user/Desktop/cb_multios_binaries_origina...         cgc_log   \n",
       "2383  /home/user/Desktop/cb_multios_binaries_origina...  cgc_deallocate   \n",
       "2384  /home/user/Desktop/cb_multios_binaries_origina...         cgc_sin   \n",
       "2385  /home/user/Desktop/cb_multios_binaries_origina...        cgc_sqrt   \n",
       "2386  /home/user/Desktop/cb_multios_binaries_origina...     cgc_receive   \n",
       "\n",
       "           addr              name            sample_name_addr  \n",
       "0     134520880  3D_Image_Toolkit  3D_Image_Toolkit_134520880  \n",
       "1     134520896  3D_Image_Toolkit  3D_Image_Toolkit_134520896  \n",
       "2     134520912  3D_Image_Toolkit  3D_Image_Toolkit_134520912  \n",
       "3     134520928  3D_Image_Toolkit  3D_Image_Toolkit_134520928  \n",
       "4     134520944  3D_Image_Toolkit  3D_Image_Toolkit_134520944  \n",
       "...         ...               ...                         ...  \n",
       "2382  134541344  Audio_Visualizer  Audio_Visualizer_134541344  \n",
       "2383  134541348  Audio_Visualizer  Audio_Visualizer_134541348  \n",
       "2384  134541352  Audio_Visualizer  Audio_Visualizer_134541352  \n",
       "2385  134541356  Audio_Visualizer  Audio_Visualizer_134541356  \n",
       "2386  134541360  Audio_Visualizer  Audio_Visualizer_134541360  \n",
       "\n",
       "[2387 rows x 5 columns]"
      ]
     },
     "execution_count": 34,
     "metadata": {},
     "output_type": "execute_result"
    }
   ],
   "source": [
    "fun_df"
   ]
  },
  {
   "cell_type": "code",
   "execution_count": 12,
   "id": "c79547e0",
   "metadata": {},
   "outputs": [],
   "source": [
    "pairs = make_pairs(files)"
   ]
  },
  {
   "cell_type": "code",
   "execution_count": 14,
   "id": "2f38e623",
   "metadata": {},
   "outputs": [],
   "source": [
    "bindiffs = [make_bindiff(k, v) for k, v in pairs.items()]"
   ]
  },
  {
   "cell_type": "code",
   "execution_count": null,
   "id": "938b6a30",
   "metadata": {
    "scrolled": false
   },
   "outputs": [],
   "source": [
    "bindiff_fcn_paths = [bindiff_to_csv(bindiff) for bindiff in bindiffs]"
   ]
  },
  {
   "cell_type": "code",
   "execution_count": null,
   "id": "c32eba22",
   "metadata": {
    "scrolled": true
   },
   "outputs": [],
   "source": [
    "coorelate_fun_names(bindiff_fcn_paths[0])"
   ]
  },
  {
   "cell_type": "code",
   "execution_count": null,
   "id": "d6395481",
   "metadata": {},
   "outputs": [],
   "source": [
    "final_dfs = [coorelate_fun_names(bindiff_fcn_path) for bindiff_fcn_path in bindiff_fcn_paths if bindiff_fcn_path != 'error']"
   ]
  },
  {
   "cell_type": "code",
   "execution_count": null,
   "id": "b525bc5b",
   "metadata": {},
   "outputs": [],
   "source": [
    "final_combined = pd.concat(final_dfs, axis=0)"
   ]
  },
  {
   "cell_type": "code",
   "execution_count": null,
   "id": "5182ec9a",
   "metadata": {},
   "outputs": [],
   "source": [
    "final_combined.to_csv('/home/user/Desktop/cbmultios_BinExports/resources/final_combined.csv')"
   ]
  }
 ],
 "metadata": {
  "kernelspec": {
   "display_name": "Python 3",
   "language": "python",
   "name": "python3"
  },
  "language_info": {
   "codemirror_mode": {
    "name": "ipython",
    "version": 3
   },
   "file_extension": ".py",
   "mimetype": "text/x-python",
   "name": "python",
   "nbconvert_exporter": "python",
   "pygments_lexer": "ipython3",
   "version": "3.8.5"
  }
 },
 "nbformat": 4,
 "nbformat_minor": 5
}
